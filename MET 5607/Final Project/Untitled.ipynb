{
 "cells": [
  {
   "cell_type": "code",
   "execution_count": null,
   "id": "f66aaa76",
   "metadata": {},
   "outputs": [],
   "source": [
    "# Install packages that aren't available by default\n",
    "# You probably don't need this section if you run on your own computer\n",
    "%pip install shapely --no-binary shapely --no-input --force-reinstall\n",
    "%pip install \"cartopy<0.20\" # Version 0.20 currently has version conflict\n",
    "%pip install proplot"
   ]
  },
  {
   "cell_type": "code",
   "execution_count": null,
   "id": "b898ef2a",
   "metadata": {},
   "outputs": [],
   "source": [
    "import os\n",
    "import numpy as np\n",
    "import xarray as xr\n",
    "import cartopy.crs as ccrs\n",
    "import matplotlib.pyplot as plt\n",
    "from glob import glob\n",
    "import proplot\n",
    "\n",
    "# Suppress selected warnings; these are for developers to handle, not us\n",
    "import warnings\n",
    "from shapely.errors import ShapelyDeprecationWarning\n",
    "warnings.filterwarnings(\"ignore\", category=ShapelyDeprecationWarning)"
   ]
  },
  {
   "cell_type": "code",
   "execution_count": null,
   "id": "17da441c",
   "metadata": {},
   "outputs": [],
   "source": [
    "# If you are running on Google Colab, need to mount Google Drive, where the model output is stored \n",
    "from google.colab import drive\n",
    "drive.mount('/content/drive')"
   ]
  },
  {
   "cell_type": "code",
   "execution_count": null,
   "id": "4071fc3c",
   "metadata": {},
   "outputs": [],
   "source": [
    "# Define the directories for control and experimental simulations\n",
    "dir_root = '/content/drive/MyDrive/MET5607-Arctic-change/'\n",
    "dir_control = dir_root+'control/OutputDir/'\n",
    "dir_experiment = dir_root+'2050-seaice/OutputDir/'\n",
    "# dir_experiment = dir_root+'2050-Tq/OutputDir/'\n",
    "\n",
    "# Check that directories exist\n",
    "try:\n",
    "  for dir in [dir_control,dir_experiment]:\n",
    "    assert os.path.isdir(dir), \"Directory not found {:s}\".format(dir)\n",
    "except Exception as e:\n",
    "  print(e)\n",
    "  print('If you are using Google Colab, you need to create a shortcut to the shared '+\\\n",
    "        'directory in your Google Drive or copy the files to your Google Drive')"
   ]
  },
  {
   "cell_type": "code",
   "execution_count": null,
   "id": "0244c365",
   "metadata": {},
   "outputs": [],
   "source": [
    "# Locate all files for each simulation\n",
    "files_control = []\n",
    "files_experiment = []\n",
    "for dir,files in zip([dir_control,dir_experiment],[files_control,files_experiment]):\n",
    "  files.extend(glob(dir+'GEOSChem.StateMet.2015*.nc4'))\n",
    "  files.extend(glob(dir+'GEOSChem.SpeciesConc.2015*.nc4'))\n",
    "  files.extend(glob(dir+'GEOSChem.ConcAfterChem.2015*.nc4'))\n",
    "\n",
    "  # Also open some or all the following as needed for constructing a budget\n",
    "  # It may take a long time to open all at once\n",
    "  #files.extend(glob(dir+'GEOSChem.ProdLoss.2015*.nc4'))\n",
    "  #files.extend(glob(dir+'GEOSChem.DryDep.2015*.nc4'))\n",
    "  #files.extend(glob(dir+'GEOSChem.Budget.2015*.nc4'))\n",
    "  #files.extend(glob(dir+'HEMCO_diagnostics.2015*.nc'))\n",
    "\n",
    "\n",
    "# Minimal sanity check that we found the right files\n",
    "assert len(files_control) > 0, 'No files found for control simulation'\n",
    "assert len(files_control) % 12 == 0, 'Number of files should be a multiple of 12, one for each month'\n",
    "assert len(files_control) == len(files_experiment), 'Number of files should be same for control and experiment simulations!'"
   ]
  },
  {
   "cell_type": "code",
   "execution_count": null,
   "id": "c601ca68",
   "metadata": {},
   "outputs": [],
   "source": [
    "# Open datasets\n",
    "control = xr.open_mfdataset(files_control)\n",
    "expr    = xr.open_mfdataset(files_experiment)\n",
    "\n",
    "# Level is approximately pressure, hPa\n",
    "control['lev'] = control['lev'] * control['P0'].isel(time=0)\n",
    "expr['lev']    = expr['lev']    * expr['P0'].isel(time=0)"
   ]
  },
  {
   "cell_type": "code",
   "execution_count": null,
   "id": "6b802909",
   "metadata": {},
   "outputs": [],
   "source": [
    "for ds in [control, expr]:\n",
    "  # Rename HO2 for consistency with other species variables\n",
    "  ds['SpeciesConc_HO2'] = ds['HO2concAfterChem']\n",
    "  # Rename OH and convert molec/cm3 -> mol/mol\n",
    "  ds['SpeciesConc_OH']  = ( ds['OHconcAfterChem'] / \n",
    "                                (ds['Met_AIRDEN'] / 0.02897 * 6.02e23 / 1e6 ) \n",
    "                                ).assign_attrs( dict(units = 'mol mol-1 dry') )"
   ]
  },
  {
   "cell_type": "code",
   "execution_count": null,
   "id": "9396d590",
   "metadata": {},
   "outputs": [],
   "source": [
    "# Define families\n",
    "# If applicable, it would make sense to define chemical families here before annual means are calculated\n",
    "for ds in [control, expr]:\n",
    "  ds['SpeciesConc_HOx'] = (ds['SpeciesConc_OH'] + ds['SpeciesConc_HO2']) #/ (1e-9).assign_attrs(dict(units))\n"
   ]
  },
  {
   "cell_type": "code",
   "execution_count": null,
   "id": "406a1d40",
   "metadata": {},
   "outputs": [],
   "source": [
    "# Days in each month, used for weighting monthly values for annual mean\n",
    "dpm = xr.DataArray( [31,28,31,30,31,30,31,31,30,31,30,31], coords=control.time.coords )\n",
    "\n",
    "# Annual mean\n",
    "control_annual = control.weighted(dpm).mean(dim='time')\n",
    "expr_annual    = expr.weighted(dpm).mean(dim='time')"
   ]
  },
  {
   "cell_type": "code",
   "execution_count": null,
   "id": "fb477b08",
   "metadata": {},
   "outputs": [],
   "source": [
    "# Days in each month, used for weighting monthly values for annual mean\n",
    "dpm = xr.DataArray( [31,28,31,30,31,30,31,31,30,31,30,31], coords=control.time.coords )\n",
    "\n",
    "# Annual mean\n",
    "control_annual = control.weighted(dpm).mean(dim='time')\n",
    "expr_annual    = expr.weighted(dpm).mean(dim='time')"
   ]
  },
  {
   "cell_type": "code",
   "execution_count": null,
   "id": "058befcd",
   "metadata": {},
   "outputs": [],
   "source": [
    "# Define some map projections that we will use\n",
    "\n",
    "# Global maps. EqualEarth is excellent, but not available in Colab, so use Robinson\n",
    "# global_proj = ccrs.EqualEarth()\n",
    "global_proj = ccrs.Robinson()\n",
    "global_extents = [-180,180,-90,90]\n",
    "\n",
    "# Arctic maps, use stereographic\n",
    "arctic_proj = ccrs.NorthPolarStereo()\n",
    "arctic_extents = [-180,180,65,90]"
   ]
  },
  {
   "cell_type": "code",
   "execution_count": null,
   "id": "598c606b",
   "metadata": {},
   "outputs": [],
   "source": [
    "# Plot annual mean 2m air temperature\n",
    "control_annual['Met_TS'].plot()"
   ]
  },
  {
   "cell_type": "code",
   "execution_count": null,
   "id": "452bbb1c",
   "metadata": {},
   "outputs": [],
   "source": [
    "# Repeat annual mean air temperature, now as a map with coastlines\n",
    "# Plot annual mean 2m air temperature\n",
    "p = control_annual['Met_TS'].plot(\n",
    "    subplot_kws=dict(projection=global_proj),\n",
    "    transform=ccrs.PlateCarree()\n",
    "    )\n",
    "p.axes.coastlines()\n",
    "p.axes.gridlines()"
   ]
  },
  {
   "cell_type": "code",
   "execution_count": null,
   "id": "1c0daf2d",
   "metadata": {},
   "outputs": [],
   "source": [
    "# Plot January 2m air temperature \n",
    "# Indices start at 0, so 0=Jan, 1=Feb, ... 11=Dec\n",
    "p = control['Met_TS'].isel(time=0).plot(\n",
    "    subplot_kws=dict(projection=global_proj),\n",
    "    transform=ccrs.PlateCarree()\n",
    "    )\n",
    "p.axes.coastlines()"
   ]
  },
  {
   "cell_type": "code",
   "execution_count": null,
   "id": "3caf980e",
   "metadata": {},
   "outputs": [],
   "source": [
    "# Plot annual, zonal mean temperature\n",
    "# Use yincrease=False so that y axis shows decreasing pressure with height\n",
    "control_annual['Met_T'].mean(dim='lon').\\\n",
    "  plot( yincrease=False )"
   ]
  },
  {
   "cell_type": "code",
   "execution_count": null,
   "id": "549ba818",
   "metadata": {},
   "outputs": [],
   "source": [
    "# Plot zonal mean temperature, January\n",
    "control['Met_T'].isel(time=0).\\\n",
    "  mean(dim='lon').plot(\n",
    "      yincrease=False,\n",
    "      levels=15\n",
    "      )"
   ]
  },
  {
   "cell_type": "code",
   "execution_count": null,
   "id": "26bd8d95",
   "metadata": {},
   "outputs": [],
   "source": [
    "# Plot 2m air temperature for all 12 months\n",
    "p = control['Met_TS'].plot(\n",
    "    col='time', col_wrap=4,\n",
    "    subplot_kws=dict(projection=global_proj),\n",
    "    transform=ccrs.PlateCarree()\n",
    "    )\n",
    "\n",
    "for ax in p.axes.flat:\n",
    "  ax.coastlines()"
   ]
  },
  {
   "cell_type": "code",
   "execution_count": null,
   "id": "b771f640",
   "metadata": {},
   "outputs": [],
   "source": [
    "# Plot 2m air temperature for all 12 months, Arctic map\n",
    "p = control['Met_TS'].plot(\n",
    "    col='time', col_wrap=4,\n",
    "    subplot_kws=dict(projection=arctic_proj),\n",
    "    transform=ccrs.PlateCarree(),\n",
    "    vmin=230,vmax=290\n",
    "    )\n",
    "\n",
    "for ax in p.axes.flat:\n",
    "  ax.coastlines()\n",
    "  ax.set_extent( arctic_extents, ccrs.PlateCarree() )\n",
    "  # ax.gridlines()"
   ]
  },
  {
   "cell_type": "code",
   "execution_count": null,
   "id": "5889b479",
   "metadata": {},
   "outputs": [],
   "source": [
    "# Define the HOx family, Concentration Control\n",
    "control['SpeciesConc_HOx'] = control['SpeciesConc_HO2'] + control['SpeciesConc_OH']\n",
    "#expr['SpeciesConc_HOx'] = expr['SpeciesConc_HO2'] + expr['SpeciesConc_OH']\n",
    "\n",
    "\n",
    "# Plot it\n",
    "p = control['SpeciesConc_HOx'].isel(time=4,lev=5).\\\n",
    "  plot(\n",
    "    subplot_kws={'projection':arctic_proj},\n",
    "    transform=ccrs.PlateCarree(),\n",
    "    vmax=1.0e-11\n",
    "  )\n",
    "p.axes.coastlines()\n",
    "p.axes.set_extent( arctic_extents, ccrs.PlateCarree() )"
   ]
  },
  {
   "cell_type": "code",
   "execution_count": null,
   "id": "cd9361df",
   "metadata": {},
   "outputs": [],
   "source": []
  },
  {
   "cell_type": "code",
   "execution_count": null,
   "id": "94709e67",
   "metadata": {},
   "outputs": [],
   "source": []
  },
  {
   "cell_type": "code",
   "execution_count": null,
   "id": "60bfa01c",
   "metadata": {},
   "outputs": [],
   "source": []
  }
 ],
 "metadata": {
  "kernelspec": {
   "display_name": "Python 3 (ipykernel)",
   "language": "python",
   "name": "python3"
  },
  "language_info": {
   "codemirror_mode": {
    "name": "ipython",
    "version": 3
   },
   "file_extension": ".py",
   "mimetype": "text/x-python",
   "name": "python",
   "nbconvert_exporter": "python",
   "pygments_lexer": "ipython3",
   "version": "3.9.13"
  }
 },
 "nbformat": 4,
 "nbformat_minor": 5
}
