{
 "cells": [
  {
   "cell_type": "code",
   "execution_count": null,
   "id": "5f31449d",
   "metadata": {},
   "outputs": [],
   "source": [
    "# Import the packages that we will use\n",
    "import hvplot.xarray\n",
    "import xarray as xr\n",
    "import cartopy.crs as ccrs\n",
    "import numpy as np\n",
    "import pandas as pd\n",
    "import matplotlib.pyplot as plt\n",
    "try:\n",
    "    import met4450\n",
    "except ImportError:\n",
    "    print('Uh oh!!')\n",
    "    print('You must have met4450.py in the same directory as this file or somewhere else in your python path')"
   ]
  },
  {
   "cell_type": "code",
   "execution_count": null,
   "id": "a34c321d",
   "metadata": {},
   "outputs": [],
   "source": [
    "# Connect to Amazon Web Services public datastores\n",
    "import s3fs\n",
    "fs = s3fs.S3FileSystem(anon=True)"
   ]
  },
  {
   "cell_type": "code",
   "execution_count": null,
   "id": "2d341878",
   "metadata": {},
   "outputs": [],
   "source": [
    "How to use find_goes_dataset\n",
    "The function find_goes_filename within the met4450 package makes is easy to find GOES data on AWS. The keyword arguments are\n",
    "\n",
    "satellite - defines which GOES satellite to use. Possible values are\n",
    "16, '16', 'G16', 'GOES16', 'GOES-16', 'GOES-EAST', 'EAST' = GOES-16\n",
    "17, '17', 'G17', 'GOES17', 'GOES-17' = GOES-17\n",
    "18, '18', 'G18', 'GOES18', 'GOES-18', 'GOES-WEST', 'WEST' = GOES-18\n",
    "product - defines which ABI product to use. Typically use 'ABI-L2-MCMIP', which is the cloud and moisture imagery for all bands in one file, all at the same resolution (2 km). See link for a full list of GOES-16, 17, 18 products.\n",
    "domain - defines the ABI field of view. Possible values are\n",
    "F = Full disk\n",
    "C = CONUS\n",
    "M1 or M2 = Mesoscale sector 1 or 2\n",
    "datetime - defines the date and time of interest. Data for the nearest matching time will be returned. Use the format 'YYYY-MM-DD HH:MM'. (Timestamp and datetime objects are also OK, if you know what they are.) The datetime must be after the following operational start dates\n",
    "2017-03-01 for GOES-16\n",
    "2018-08-29 for GOES-17\n",
    "2022-07-28 for GOES-18\n",
    "The function will return the path to the data nearest in time to the datetime that you provide."
   ]
  },
  {
   "cell_type": "code",
   "execution_count": null,
   "id": "fa899f79",
   "metadata": {},
   "outputs": [],
   "source": [
    "# Find file for a date, time, product and domain of intrest\n",
    "fileinfo = met4450.find_goes_dataset(satellite=16,\n",
    "                        product='ABI-L2-MCMIP',\n",
    "                        domain='C',\n",
    "                        datetime='2023-02-14 19:00')\n",
    "\n",
    "# Print the name of the file that we will read\n",
    "print( 'Reading file: https://{:s}.s3.amazonaws.com/{:s}'.format( *fileinfo.file[0].split('/',1) ) )\n",
    "                                           \n",
    "# Load the data from AWS\n",
    "goes = xr.open_dataset( fs.open( fileinfo.file[0] ) )"
   ]
  },
  {
   "cell_type": "code",
   "execution_count": null,
   "id": "70be84bf",
   "metadata": {},
   "outputs": [],
   "source": [
    "The variable goes is a dataset that contains all contents of the netCDF file. The dataset contains many variables within it. For example, goes['x'] is the variable that contains the x coordinate of the data and goes['y'] is the y coordinate variable. Imagery from the 16 ABI bands are contained in the variables CMI_Cxx, where xx is a number 01-16, so goes['CMI_C01'] is the variable containing data from ABI band 1. See this link for a summary of the wavelengths corresponding to each band.\n",
    "\n",
    "The following cell displays a summary of the dataset, from which you can explore all of the variables that it contains."
   ]
  },
  {
   "cell_type": "code",
   "execution_count": null,
   "id": "6fec1964",
   "metadata": {},
   "outputs": [],
   "source": [
    "# Display summary of dataset\n",
    "# Explore the output\n",
    "goes"
   ]
  },
  {
   "cell_type": "code",
   "execution_count": null,
   "id": "fdcdd689",
   "metadata": {},
   "outputs": [],
   "source": [
    "# Display band 3 (0.86µm) reflectance\n",
    "goes['CMI_C03'].plot.imshow()"
   ]
  },
  {
   "cell_type": "code",
   "execution_count": null,
   "id": "1e89820c",
   "metadata": {},
   "outputs": [],
   "source": [
    "# Repeat as an interactive plot\n",
    "goes['CMI_C03'].hvplot('x','y',data_aspect=1)"
   ]
  },
  {
   "cell_type": "code",
   "execution_count": null,
   "id": "27156911",
   "metadata": {},
   "outputs": [],
   "source": [
    "Explore\n",
    "Experiment with the commands above. For example, try some different ABI bands, a different date and time, a different domain, or a different GOES satellite.\n",
    "\n",
    "True color images\n",
    "To create a true color image (aka natural color), we must define the brightness of red, blue, and green components. ABI has blue (band 1) and red (band 2) bands. We will treat band 3 (0.86 µm) as green because, as we have seen, green vegetation also reflects near IR light."
   ]
  },
  {
   "cell_type": "code",
   "execution_count": null,
   "id": "d5d59c65",
   "metadata": {},
   "outputs": [],
   "source": [
    "# Define red, blue, and green colors for a natural color image\n",
    "goes['R'] = goes['CMI_C02']\n",
    "goes['G'] = goes['CMI_C03']\n",
    "goes['B'] = goes['CMI_C01']\n",
    "\n",
    "# Combine RGB into one data array\n",
    "goes['RGB'] = goes[['R','G','B']].to_array()\n",
    "\n",
    "# Restrict to range [0,1]\n",
    "goes['RGB'] = np.clip( goes['RGB'], 0, 1 )"
   ]
  },
  {
   "cell_type": "code",
   "execution_count": null,
   "id": "20af5eb7",
   "metadata": {},
   "outputs": [],
   "source": []
  },
  {
   "cell_type": "code",
   "execution_count": null,
   "id": "e2766317",
   "metadata": {},
   "outputs": [],
   "source": []
  },
  {
   "cell_type": "code",
   "execution_count": null,
   "id": "f5ab7d4b",
   "metadata": {},
   "outputs": [],
   "source": []
  },
  {
   "cell_type": "code",
   "execution_count": null,
   "id": "3f2187d1",
   "metadata": {},
   "outputs": [],
   "source": []
  },
  {
   "cell_type": "code",
   "execution_count": null,
   "id": "6d402e6c",
   "metadata": {},
   "outputs": [],
   "source": []
  },
  {
   "cell_type": "code",
   "execution_count": null,
   "id": "72d58bac",
   "metadata": {},
   "outputs": [],
   "source": []
  },
  {
   "cell_type": "code",
   "execution_count": null,
   "id": "ad27ba96",
   "metadata": {},
   "outputs": [],
   "source": []
  },
  {
   "cell_type": "code",
   "execution_count": null,
   "id": "4f02ea93",
   "metadata": {},
   "outputs": [],
   "source": []
  },
  {
   "cell_type": "code",
   "execution_count": null,
   "id": "29772b0a",
   "metadata": {},
   "outputs": [],
   "source": []
  },
  {
   "cell_type": "code",
   "execution_count": null,
   "id": "7b4bfa0b",
   "metadata": {},
   "outputs": [],
   "source": []
  },
  {
   "cell_type": "code",
   "execution_count": null,
   "id": "c5e2ba54",
   "metadata": {},
   "outputs": [],
   "source": []
  },
  {
   "cell_type": "code",
   "execution_count": null,
   "id": "82736402",
   "metadata": {},
   "outputs": [],
   "source": []
  },
  {
   "cell_type": "code",
   "execution_count": null,
   "id": "e89c5a1c",
   "metadata": {},
   "outputs": [],
   "source": []
  }
 ],
 "metadata": {
  "kernelspec": {
   "display_name": "Python 3 (ipykernel)",
   "language": "python",
   "name": "python3"
  },
  "language_info": {
   "codemirror_mode": {
    "name": "ipython",
    "version": 3
   },
   "file_extension": ".py",
   "mimetype": "text/x-python",
   "name": "python",
   "nbconvert_exporter": "python",
   "pygments_lexer": "ipython3",
   "version": "3.9.13"
  }
 },
 "nbformat": 4,
 "nbformat_minor": 5
}
